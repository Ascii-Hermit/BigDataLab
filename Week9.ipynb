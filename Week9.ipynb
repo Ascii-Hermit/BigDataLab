{
 "cells": [
  {
   "cell_type": "code",
   "execution_count": 21,
   "id": "d5b1e9ad",
   "metadata": {},
   "outputs": [
    {
     "name": "stderr",
     "output_type": "stream",
     "text": [
      "24/10/07 10:21:11 WARN Utils: Service 'SparkUI' could not bind on port 4040. Attempting port 4041.\n"
     ]
    },
    {
     "name": "stdout",
     "output_type": "stream",
     "text": [
      "Estimated value of pi after 100 simulations: 3.141664\n"
     ]
    }
   ],
   "source": [
    "# Implement a PySpark script that runs Monte Carlo simulations in parallel.\n",
    "\n",
    "from pyspark.sql import SparkSession\n",
    "import random\n",
    "\n",
    "spark = SparkSession.builder \\\n",
    "    .appName(\"MonteCarloSimulation\") \\\n",
    "    .getOrCreate()\n",
    "\n",
    "def monte_carlo_pi(num_samples):\n",
    "    inside_circle = 0\n",
    "    for _ in range(num_samples):\n",
    "        x, y = random.uniform(0, 1), random.uniform(0, 1)\n",
    "        if x**2 + y**2 <= 1:\n",
    "            inside_circle += 1\n",
    "    return inside_circle\n",
    "\n",
    "num_simulations = 100\n",
    "samples_per_simulation = 10000\n",
    "\n",
    "# RDD for parallel\n",
    "rdd = spark.sparkContext.parallelize([samples_per_simulation] * num_simulations)\n",
    "\n",
    "# simulation in parallel\n",
    "inside_circle_counts = rdd.map(monte_carlo_pi).collect()\n",
    "\n",
    "total_inside_circle = sum(inside_circle_counts)\n",
    "\n",
    "estimated_pi = (total_inside_circle / (num_simulations * samples_per_simulation)) * 4\n",
    "\n",
    "print(f\"Estimated value of pi after {num_simulations} simulations: {estimated_pi}\")\n",
    "\n",
    "spark.stop()\n"
   ]
  },
  {
   "cell_type": "code",
   "execution_count": 22,
   "id": "f21d3310",
   "metadata": {},
   "outputs": [
    {
     "name": "stderr",
     "output_type": "stream",
     "text": [
      "24/10/07 10:21:28 WARN Utils: Service 'SparkUI' could not bind on port 4040. Attempting port 4041.\n"
     ]
    },
    {
     "name": "stdout",
     "output_type": "stream",
     "text": [
      "DataFrame with Samples:\n",
      "+--------------------+------------------+\n",
      "|       normal_sample|    uniform_sample|\n",
      "+--------------------+------------------+\n",
      "| -0.4771518973604032|0.6363857117498878|\n",
      "|  0.3936321205016935|0.5390937722016786|\n",
      "|-0.27895340583342626|0.5281089370622566|\n",
      "| -0.7684754673532722|0.7907719390812169|\n",
      "|-0.15098062140476629|0.5589047940559694|\n",
      "+--------------------+------------------+\n",
      "only showing top 5 rows\n",
      "\n",
      "Updated DataFrame with Sum of Samples:\n",
      "+--------------------+------------------+-------------------+\n",
      "|       normal_sample|    uniform_sample|        sum_samples|\n",
      "+--------------------+------------------+-------------------+\n",
      "| -0.4771518973604032|0.6363857117498878|0.15923381438948458|\n",
      "|  0.3936321205016935|0.5390937722016786| 0.9327258927033721|\n",
      "|-0.27895340583342626|0.5281089370622566|0.24915553122883033|\n",
      "| -0.7684754673532722|0.7907719390812169|0.02229647172794469|\n",
      "|-0.15098062140476629|0.5589047940559694|0.40792417265120307|\n",
      "+--------------------+------------------+-------------------+\n",
      "only showing top 5 rows\n",
      "\n"
     ]
    }
   ],
   "source": [
    "# Demonstrate how to define and apply probability distributions to input parameters using\n",
    "# PySpark.\n",
    "\n",
    "from pyspark.sql import SparkSession\n",
    "from pyspark.sql.functions import col\n",
    "import numpy as np\n",
    "\n",
    "spark = SparkSession.builder \\\n",
    "    .appName(\"ProbabilityDistributions\") \\\n",
    "    .getOrCreate()\n",
    "\n",
    "num_samples = 1000\n",
    "\n",
    "# normal distribution (mean=0, std=1)\n",
    "normal_samples = np.random.normal(loc=0, scale=1, size=num_samples)\n",
    "\n",
    "# uniform distribution (low=0, high=1)\n",
    "uniform_samples = np.random.uniform(low=0, high=1, size=num_samples)\n",
    "\n",
    "data = [(float(normal_samples[i]), float(uniform_samples[i])) for i in range(num_samples)]\n",
    "\n",
    "columns = [\"normal_sample\", \"uniform_sample\"]\n",
    "df = spark.createDataFrame(data, columns)\n",
    "\n",
    "\n",
    "print(\"DataFrame with Samples:\")\n",
    "df.show(5)\n",
    "\n",
    "# example calculations for application\n",
    "# we can compute the sum of the two samples and create a new column\n",
    "df = df.withColumn(\"sum_samples\", col(\"normal_sample\") + col(\"uniform_sample\"))\n",
    "\n",
    "print(\"Updated DataFrame with Sum of Samples:\")\n",
    "df.show(5)\n",
    "\n",
    "spark.stop()\n"
   ]
  },
  {
   "cell_type": "code",
   "execution_count": null,
   "id": "a1f7ca49",
   "metadata": {},
   "outputs": [],
   "source": []
  }
 ],
 "metadata": {
  "kernelspec": {
   "display_name": "Python 3 (ipykernel)",
   "language": "python",
   "name": "python3"
  },
  "language_info": {
   "codemirror_mode": {
    "name": "ipython",
    "version": 3
   },
   "file_extension": ".py",
   "mimetype": "text/x-python",
   "name": "python",
   "nbconvert_exporter": "python",
   "pygments_lexer": "ipython3",
   "version": "3.10.12"
  }
 },
 "nbformat": 4,
 "nbformat_minor": 5
}
