{
 "cells": [
  {
   "cell_type": "code",
   "execution_count": 4,
   "id": "ba3fb96c-7195-49b1-911d-8cae86c4c7bb",
   "metadata": {},
   "outputs": [
    {
     "name": "stderr",
     "output_type": "stream",
     "text": [
      "24/08/31 14:06:14 WARN SparkSession: Using an existing Spark session; only runtime SQL configurations will take effect.\n"
     ]
    },
    {
     "name": "stdout",
     "output_type": "stream",
     "text": [
      "Original DataFrame:\n",
      "+---------+---+------+\n",
      "|     Name|Age|Gender|\n",
      "+---------+---+------+\n",
      "|    Alice| 34|     F|\n",
      "|      Bob| 45|     M|\n",
      "|Catherine| 29|     F|\n",
      "|    David| 50|     M|\n",
      "+---------+---+------+\n",
      "\n",
      "Transformed DataFrame:\n",
      "+-----+---+------+------+\n",
      "| Name|Age|Gender|Senior|\n",
      "+-----+---+------+------+\n",
      "|Alice| 34|     F|    No|\n",
      "|  Bob| 45|     M|   Yes|\n",
      "|David| 50|     M|   Yes|\n",
      "+-----+---+------+------+\n",
      "\n"
     ]
    }
   ],
   "source": [
    "from pyspark.sql import SparkSession\n",
    "from pyspark.sql.functions import *\n",
    " \n",
    "'''Q1. Implement a PySpark script that applies transformations like filter and withColumn on a DataFrame.'''\n",
    " \n",
    "spark=SparkSession.builder \\\n",
    "    .appName(\"Transformations\") \\\n",
    "    .getOrCreate()\n",
    " \n",
    "data = [\n",
    "    (\"Alice\", 34, \"F\"),\n",
    "    (\"Bob\", 45, \"M\"),\n",
    "    (\"Catherine\", 29, \"F\"),\n",
    "    (\"David\", 50, \"M\")\n",
    "]\n",
    " \n",
    "columns = [\"Name\", \"Age\", \"Gender\"]\n",
    "df = spark.createDataFrame(data, schema=columns)\n",
    " \n",
    "print(\"Original DataFrame:\")\n",
    "df.show()\n",
    " \n",
    "filtered_df = df.filter(col(\"Age\") > 30)\n",
    " \n",
    "transformed_df = filtered_df.withColumn(\"Senior\", \n",
    "                                         when(col(\"Age\") > 40, lit(\"Yes\"))\n",
    "                                         .otherwise(lit(\"No\")))\n",
    " \n",
    "print(\"Transformed DataFrame:\")\n",
    "transformed_df.show()\n",
    " \n",
    "spark.stop()"
   ]
  },
  {
   "cell_type": "code",
   "execution_count": 5,
   "id": "358c0170-5812-4579-97d1-23349f083a5a",
   "metadata": {},
   "outputs": [
    {
     "name": "stdout",
     "output_type": "stream",
     "text": [
      "DataFrame:\n",
      "+---------+---+------+\n",
      "|     Name|Age|Gender|\n",
      "+---------+---+------+\n",
      "|    Alice| 34|     F|\n",
      "|      Bob| 45|     M|\n",
      "|Catherine| 29|     F|\n",
      "|    David| 50|     M|\n",
      "+---------+---+------+\n",
      "\n",
      "Number of rows in the DataFrame: 4\n",
      "DataFrame with truncate option:\n",
      "+---------+---+------+\n",
      "|Name     |Age|Gender|\n",
      "+---------+---+------+\n",
      "|Alice    |34 |F     |\n",
      "|Bob      |45 |M     |\n",
      "|Catherine|29 |F     |\n",
      "|David    |50 |M     |\n",
      "+---------+---+------+\n",
      "\n"
     ]
    }
   ],
   "source": [
    "'''Q2.Write a PySpark script that performs actions like count and show on a DataFrame.'''\n",
    " \n",
    " \n",
    "spark = SparkSession.builder \\\n",
    "    .appName(\"ActionsExample\") \\\n",
    "    .getOrCreate()\n",
    " \n",
    "columns = [\"Name\", \"Age\", \"Gender\"]\n",
    "df = spark.createDataFrame(data, schema=columns)\n",
    " \n",
    " \n",
    "print(\"DataFrame:\")\n",
    "df.show()\n",
    " \n",
    "row_count = df.count()\n",
    "print(f\"Number of rows in the DataFrame: {row_count}\")\n",
    " \n",
    " \n",
    "print(\"DataFrame with truncate option:\")\n",
    "df.show(truncate=False)\n",
    " \n",
    "spark.stop()"
   ]
  },
  {
   "cell_type": "code",
   "execution_count": 8,
   "id": "49dfe0b6-a062-4826-90bd-87ed5eabeb92",
   "metadata": {},
   "outputs": [
    {
     "name": "stdout",
     "output_type": "stream",
     "text": [
      "DataFrame:\n",
      "+---------+---+------+\n",
      "|     Name|Age|Salary|\n",
      "+---------+---+------+\n",
      "|    Alice| 34|   147|\n",
      "|      Bob| 45|   789|\n",
      "|Catherine| 29|   456|\n",
      "|    David| 50|   123|\n",
      "+---------+---+------+\n",
      "\n",
      "Total Salary: 1515\n",
      "Average Salary: 378.75\n"
     ]
    }
   ],
   "source": [
    "#Q3\n",
    "spark = SparkSession.builder \\\n",
    "    .appName(\"AggregationsExample\") \\\n",
    "    .getOrCreate()\n",
    " \n",
    "data = [\n",
    "    (\"Alice\", 34, 147),\n",
    "    (\"Bob\", 45, 789),\n",
    "    (\"Catherine\", 29, 456),\n",
    "    (\"David\", 50, 123)\n",
    "]\n",
    " \n",
    "columns = [\"Name\", \"Age\", \"Salary\"]\n",
    "df = spark.createDataFrame(data, schema=columns)\n",
    " \n",
    " \n",
    "print(\"DataFrame:\")\n",
    "df.show()\n",
    " \n",
    "total_salary = df.select(sum(\"Salary\").alias(\"TotalSalary\")).collect()[0][\"TotalSalary\"]\n",
    "print(f\"Total Salary: {total_salary}\")\n",
    " \n",
    "average_salary = df.select(avg(\"Salary\").alias(\"AverageSalary\")).collect()[0][\"AverageSalary\"]\n",
    "print(f\"Average Salary: {average_salary}\")\n",
    " \n",
    "spark.stop()"
   ]
  },
  {
   "cell_type": "code",
   "execution_count": 9,
   "id": "f621ce08-ebb2-4b90-9b4e-5ea03c5929b8",
   "metadata": {},
   "outputs": [
    {
     "name": "stdout",
     "output_type": "stream",
     "text": [
      "+-----+---+\n",
      "| Name|Age|\n",
      "+-----+---+\n",
      "|Alice| 34|\n",
      "|  Bob| 45|\n",
      "|Cathy| 29|\n",
      "+-----+---+\n",
      "\n"
     ]
    }
   ],
   "source": [
    "'''Q4. Show how to write a PySpark DataFrame to a CSV file.'''\n",
    " \n",
    "spark = SparkSession.builder \\\n",
    "    .appName(\"WriteToCSVExample\") \\\n",
    "    .getOrCreate()\n",
    " \n",
    "data = [(\"Alice\", 34), (\"Bob\", 45), (\"Cathy\", 29)]\n",
    "columns = [\"Name\", \"Age\"]\n",
    " \n",
    "df = spark.createDataFrame(data, columns)\n",
    " \n",
    "output_path = \"/home/chris/220962344/Week3/test\"\n",
    " \n",
    "df.show()\n",
    " \n",
    "df.write \\\n",
    "    .mode(\"overwrite\") \\\n",
    "    .csv(output_path)\n",
    " \n",
    "spark.stop()\n",
    " "
   ]
  },
  {
   "cell_type": "code",
   "execution_count": 10,
   "id": "ff3ebe0c-b689-491f-95e9-684193797853",
   "metadata": {},
   "outputs": [
    {
     "name": "stdout",
     "output_type": "stream",
     "text": [
      "+----+-----+\n",
      "|word|count|\n",
      "+----+-----+\n",
      "|  is|    2|\n",
      "|  it|    2|\n",
      "|what|    1|\n",
      "+----+-----+\n",
      "\n",
      "is,2\n",
      "it,2\n",
      "what,1\n"
     ]
    }
   ],
   "source": [
    "#Q5\n",
    " \n",
    "from pyspark.sql import SparkSession\n",
    "from pyspark.sql import functions as F\n",
    "from pyspark import SparkContext\n",
    "from pyspark import SparkConf\n",
    " \n",
    "#Using DataFrame\n",
    "spark = SparkSession.builder.getOrCreate()\n",
    "lines = spark.read.text(\"/home/chris/220962344/Week3/text.txt\")\n",
    "words = lines.withColumn(\"word\",F.explode(F.split(F.col('value'),' '))).groupby('word').count().sort('count',ascending = False).show()\n",
    " \n",
    "#Using RDDs\n",
    "sc = SparkContext.getOrCreate(SparkConf().setMaster(\"local[*]\"))\n",
    "lines = sc.textFile(\"/home/chris/220962344/Week3/text.txt\")\n",
    "counts = lines.flatMap(lambda line: line.split(\" \")).map(lambda word: (word,1)).reduceByKey(lambda x,y:x+y)\n",
    " \n",
    "output = counts.collect()\n",
    " \n",
    "for word,count in output:\n",
    "    print(\"%s,%i\"%(word,count))"
   ]
  },
  {
   "cell_type": "code",
   "execution_count": null,
   "id": "79c3f797-bab0-4792-92ba-f7c296ab7d64",
   "metadata": {},
   "outputs": [],
   "source": []
  }
 ],
 "metadata": {
  "kernelspec": {
   "display_name": "Python 3 (ipykernel)",
   "language": "python",
   "name": "python3"
  },
  "language_info": {
   "codemirror_mode": {
    "name": "ipython",
    "version": 3
   },
   "file_extension": ".py",
   "mimetype": "text/x-python",
   "name": "python",
   "nbconvert_exporter": "python",
   "pygments_lexer": "ipython3",
   "version": "3.10.12"
  }
 },
 "nbformat": 4,
 "nbformat_minor": 5
}
